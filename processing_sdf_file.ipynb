{
 "cells": [
  {
   "cell_type": "code",
   "execution_count": 1,
   "id": "3eca1ae7-80da-4165-a49a-0e7edce09ca6",
   "metadata": {
    "tags": []
   },
   "outputs": [],
   "source": [
    "import re"
   ]
  },
  {
   "cell_type": "code",
   "execution_count": 2,
   "id": "562fdb38-ca4c-4ebe-ad72-e85b83be6c1a",
   "metadata": {
    "tags": []
   },
   "outputs": [],
   "source": [
    "def process_sdf_file_combined(input_file, output_file):\n",
    "    with open(input_file, 'r') as infile, open(output_file, 'w') as outfile:\n",
    "        molecule_data = []\n",
    "        properties = {}\n",
    "        molecule_started = False\n",
    "        current_property = None\n",
    "        property_pattern = re.compile(r'>\\s*<(.+?)>')\n",
    "        \n",
    "        for line in infile:\n",
    "            if line.startswith(\"$$$$\"):\n",
    "                outfile.write(''.join(molecule_data))\n",
    "                \n",
    "                if properties:\n",
    "                    for key, value in properties.items():\n",
    "                        outfile.write(f'> <{key}>\\n')\n",
    "                        if isinstance(value, list):\n",
    "                            for v in value:\n",
    "                                outfile.write(f'{v}\\n')\n",
    "                            outfile.write('\\n')\n",
    "                        else:\n",
    "                            outfile.write(f'{value}\\n\\n')\n",
    "                \n",
    "                molecule_data = []\n",
    "                properties = {}\n",
    "                molecule_started = False\n",
    "                current_property = None\n",
    "            \n",
    "            match = property_pattern.match(line.strip())\n",
    "            if match:\n",
    "                current_property = match.group(1)\n",
    "                if current_property not in properties:\n",
    "                    properties[current_property] = []\n",
    "                else:\n",
    "                    if not isinstance(properties[current_property], list):\n",
    "                        properties[current_property] = [properties[current_property]]\n",
    "                    \n",
    "            elif current_property is not None:\n",
    "                if line.strip() == \"\":\n",
    "                    current_property = None\n",
    "                else:\n",
    "                    properties[current_property].append(line.strip())\n",
    "            else:\n",
    "                if line.startswith(\"M  END\") or molecule_started:\n",
    "                    molecule_data.append(line)\n",
    "                    molecule_started = True\n",
    "                else:\n",
    "                    molecule_data.append(line)\n",
    "                    molecule_started = True\n",
    "\n",
    "        if molecule_data:\n",
    "            outfile.write(''.join(molecule_data))\n",
    "            if properties:\n",
    "                for key, value in properties.items():\n",
    "                    outfile.write(f'> <{key}>\\n')\n",
    "                    if isinstance(value, list):\n",
    "                        for v in value:\n",
    "                            outfile.write(f'{v}\\n')\n",
    "                        outfile.write('\\n')\n",
    "                    else:\n",
    "                        outfile.write(f'{value}\\n\\n')"
   ]
  },
  {
   "cell_type": "code",
   "execution_count": null,
   "id": "6b4a364a-4bb0-4658-b0d8-f43d8c10b310",
   "metadata": {},
   "outputs": [],
   "source": [
    "input_file = 'enter_your_sdf_file_name.sdf'\n",
    "output_file = 'enter_output_file_name.sdf'\n",
    "\n",
    "process_sdf_file_combined(input_file, output_file)\n",
    "\n",
    "print(f\"Processing complete. New combined SDF file saved as {output_file}.\")"
   ]
  }
 ],
 "metadata": {
  "kernelspec": {
   "display_name": "Python 3 (ipykernel)",
   "language": "python",
   "name": "python3"
  },
  "language_info": {
   "codemirror_mode": {
    "name": "ipython",
    "version": 3
   },
   "file_extension": ".py",
   "mimetype": "text/x-python",
   "name": "python",
   "nbconvert_exporter": "python",
   "pygments_lexer": "ipython3",
   "version": "3.11.6"
  }
 },
 "nbformat": 4,
 "nbformat_minor": 5
}
